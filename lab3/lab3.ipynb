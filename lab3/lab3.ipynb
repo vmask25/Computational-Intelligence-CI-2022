{
 "cells": [
  {
   "cell_type": "markdown",
   "metadata": {
    "pycharm": {
     "name": "#%% md\n"
    }
   },
   "source": [
    "Copyright **`(c)`** 2022 Giovanni Squillero `<squillero@polito.it>`  \n",
    "[`https://github.com/squillero/computational-intelligence`](https://github.com/squillero/computational-intelligence)  \n",
    "Free for personal or classroom use; see [`LICENSE.md`](https://github.com/squillero/computational-intelligence/blob/master/LICENSE.md) for details.  \n"
   ]
  },
  {
   "cell_type": "markdown",
   "metadata": {
    "pycharm": {
     "name": "#%%\n"
    }
   },
   "source": [
    "# Lab 3: Policy Search\n",
    "\n",
    "## Task\n",
    "\n",
    "Write agents able to play [*Nim*](https://en.wikipedia.org/wiki/Nim), with an arbitrary number of rows and an upper bound $k$ on the number of objects that can be removed in a turn (a.k.a., *subtraction game*).\n",
    "\n",
    "The player **taking the last object wins**.\n",
    "\n",
    "* Task3.1: An agent using fixed rules based on *nim-sum* (i.e., an *expert system*)\n",
    "* Task3.2: An agent using evolved rules\n",
    "* Task3.3: An agent using minmax\n",
    "* Task3.4: An agent using reinforcement learning\n",
    "\n",
    "## Instructions\n",
    "\n",
    "* Create the directory `lab3` inside the course repo \n",
    "* Put a `README.md` and your solution (all the files, code and auxiliary data if needed)\n",
    "\n",
    "## Notes\n",
    "\n",
    "* Working in group is not only allowed, but recommended (see: [Ubuntu](https://en.wikipedia.org/wiki/Ubuntu_philosophy) and [Cooperative Learning](https://files.eric.ed.gov/fulltext/EJ1096789.pdf)). Collaborations must be explicitly declared in the `README.md`.\n",
    "* [Yanking](https://www.emacswiki.org/emacs/KillingAndYanking) from the internet is allowed, but sources must be explicitly declared in the `README.md`.\n",
    "\n",
    "**Deadline**\n",
    "\n",
    "T.b.d.\n"
   ]
  },
  {
   "cell_type": "code",
   "execution_count": 152,
   "metadata": {},
   "outputs": [],
   "source": [
    "import logging\n",
    "from collections import namedtuple\n",
    "import random\n",
    "from typing import Callable\n",
    "from copy import deepcopy\n",
    "#import numpy as np"
   ]
  },
  {
   "cell_type": "markdown",
   "metadata": {},
   "source": [
    "## The *Nim* and *Nimply* classes"
   ]
  },
  {
   "cell_type": "code",
   "execution_count": 153,
   "metadata": {},
   "outputs": [],
   "source": [
    "Nimply = namedtuple(\"Nimply\", \"row, num_objects\")"
   ]
  },
  {
   "cell_type": "code",
   "execution_count": 154,
   "metadata": {},
   "outputs": [],
   "source": [
    "# The k can be omitted, it isn't always constrained the max number of object that can be taken at once (in one move)\n",
    "class Nim:\n",
    "    def __init__(self, num_rows: int, k: int = None) -> None:\n",
    "        self._rows = [i * 2 + 1 for i in range(num_rows)]\n",
    "        self._k = k\n",
    "\n",
    "    # this allow to use the while loop on the object (when all rows are zeroed this returns false)\n",
    "    def __bool__(self):\n",
    "        return sum(self._rows) > 0\n",
    "\n",
    "    # representation \"override\"\n",
    "    def __str__(self):\n",
    "        return \"<\" + \" \".join(str(_) for _ in self._rows) + \">\"\n",
    "\n",
    "    @property\n",
    "    def rows(self) -> tuple:\n",
    "        return tuple(self._rows)\n",
    "    \n",
    "    @property\n",
    "    def k(self) -> int:\n",
    "        return self._k\n",
    "\n",
    "    def nimming(self, ply: Nimply) -> None:\n",
    "        row, num_objects = ply\n",
    "        assert self._rows[row] >= num_objects\n",
    "        assert self._k is None or num_objects <= self._k\n",
    "        self._rows[row] -= num_objects"
   ]
  },
  {
   "cell_type": "markdown",
   "metadata": {},
   "source": [
    "## Sample (and silly) startegies "
   ]
  },
  {
   "cell_type": "code",
   "execution_count": 155,
   "metadata": {},
   "outputs": [],
   "source": [
    "def pure_random(state: Nim) -> Nimply:\n",
    "    row = random.choice([r for r, c in enumerate(state.rows) if c > 0])\n",
    "    num_objects = random.randint(1, state.rows[row])\n",
    "    return Nimply(row, num_objects)"
   ]
  },
  {
   "cell_type": "code",
   "execution_count": 156,
   "metadata": {},
   "outputs": [],
   "source": [
    "def gabriele(state: Nim) -> Nimply:\n",
    "    \"\"\"Pick always the maximum possible number of the lowest row\"\"\"\n",
    "    possible_moves = [(r, o) for r, c in enumerate(state.rows) for o in range(1, c + 1)]\n",
    "    return Nimply(*max(possible_moves, key=lambda m: (-m[0], m[1])))"
   ]
  },
  {
   "cell_type": "code",
   "execution_count": 157,
   "metadata": {},
   "outputs": [],
   "source": [
    "def nim_sum(state: Nim) -> int:\n",
    "    result = state.rows[0]\n",
    "    for row in state.rows[1:]:\n",
    "        result = result ^ row\n",
    "    return result\n",
    "    \n",
    "    #tmp = np.array([tuple(int(x) for x in f\"{c:032b}\") for c in state.rows])\n",
    "    #xor = tmp.sum(axis=0) % 2\n",
    "    #return int(\"\".join(str(_) for _ in xor), base=2)\n",
    "\n",
    "def cook_status(state: Nim) -> dict:\n",
    "    cooked = dict()\n",
    "    cooked['possible_moves'] = [(r, o) for r, c in enumerate(state.rows) for o in range(1, c + 1) if state.k is None or o <= state.k]\n",
    "    cooked['active_rows_number'] = sum(o > 0 for o in state.rows)\n",
    "    cooked['shortest_row'] = min((x for x in enumerate(state.rows) if x[1] > 0), key=lambda y:y[1])[0]\n",
    "    cooked['longest_row'] = max((x for x in enumerate(state.rows)), key=lambda y:y[1])[0]\n",
    "    cooked['nim_sum'] = nim_sum(state)\n",
    "\n",
    "    brute_force = list()\n",
    "    for m in cooked['possible_moves']:\n",
    "        tmp = deepcopy(state)\n",
    "        tmp.nimming(m)\n",
    "        brute_force.append((m, nim_sum(tmp)))\n",
    "    cooked['brute_force'] = brute_force\n",
    "\n",
    "    return cooked"
   ]
  },
  {
   "cell_type": "code",
   "execution_count": 158,
   "metadata": {},
   "outputs": [],
   "source": [
    "def optimal_strategy(state: Nim) -> Nimply:\n",
    "    data = cook_status(state)\n",
    "    #return next(m for m in data['possible_moves'] if m[1] == data['min_sum'])\n",
    "    return next((bf for bf in data['brute_force'] if bf[1] == 0), random.choice(data['brute_force']))[0]"
   ]
  },
  {
   "cell_type": "code",
   "execution_count": 159,
   "metadata": {},
   "outputs": [],
   "source": [
    "def make_strategy(genome: dict) -> Callable:\n",
    "    def evolvable(state: Nim) -> Nimply:\n",
    "        data = cook_status(state)\n",
    "\n",
    "        if random.random() < genome['p']:\n",
    "            ply = Nimply(data['shortest_row'], random.randint(1, state.rows[data['shortest_row']]))\n",
    "        else:\n",
    "            ply = Nimply(data['longest_row'], random.randint(1, state.rows[data['longest_row']]))\n",
    "\n",
    "        return ply\n",
    "    return evolvable"
   ]
  },
  {
   "cell_type": "markdown",
   "metadata": {},
   "source": [
    "## Evaluation of a strategy"
   ]
  },
  {
   "cell_type": "code",
   "execution_count": 160,
   "metadata": {},
   "outputs": [],
   "source": [
    "NUM_MATCHES = 100\n",
    "NIM_SIZE=10\n",
    "\n",
    "def evaluate(strategy: Callable) -> float:\n",
    "    #opponent = (strategy, pure_random)\n",
    "    opponent = (strategy, optimal_strategy)\n",
    "    won = 0\n",
    "\n",
    "    for m in range(NUM_MATCHES):\n",
    "        nim = Nim(NIM_SIZE)\n",
    "        player = 0\n",
    "        while nim:\n",
    "            ply = opponent[player](nim)\n",
    "            nim.nimming(ply)\n",
    "            player = 1 - player\n",
    "        if player == 1:\n",
    "            won += 1\n",
    "    return won/NUM_MATCHES\n"
   ]
  },
  {
   "cell_type": "markdown",
   "metadata": {},
   "source": [
    "## Testing"
   ]
  },
  {
   "cell_type": "code",
   "execution_count": 161,
   "metadata": {},
   "outputs": [
    {
     "data": {
      "text/plain": [
       "0.47"
      ]
     },
     "execution_count": 161,
     "metadata": {},
     "output_type": "execute_result"
    }
   ],
   "source": [
    "evaluate(make_strategy({'p' : .1}))"
   ]
  },
  {
   "cell_type": "markdown",
   "metadata": {},
   "source": [
    "## (OLD) Oversimplified match"
   ]
  },
  {
   "cell_type": "code",
   "execution_count": 162,
   "metadata": {},
   "outputs": [
    {
     "name": "stderr",
     "output_type": "stream",
     "text": [
      "DEBUG:root:status: Initial board  -> <1 3 5 7 9 11 13 15 17 19 21>\n",
      "DEBUG:root:status: After player 0 -> <1 3 5 7 9 11 13 15 17 19 18>\n",
      "DEBUG:root:status: After player 1 -> <1 3 5 7 9 11 13 15 1 19 18>\n",
      "DEBUG:root:status: After player 0 -> <0 3 5 7 9 11 13 15 1 19 18>\n",
      "DEBUG:root:status: After player 1 -> <0 2 5 7 9 11 13 15 1 19 18>\n",
      "DEBUG:root:status: After player 0 -> <0 2 5 7 9 11 13 15 1 1 18>\n",
      "DEBUG:root:status: After player 1 -> <0 2 5 7 9 11 13 15 1 1 0>\n",
      "DEBUG:root:status: After player 0 -> <0 2 5 7 9 11 13 12 1 1 0>\n",
      "DEBUG:root:status: After player 1 -> <0 1 5 7 9 11 13 12 1 1 0>\n",
      "DEBUG:root:status: After player 0 -> <0 0 5 7 9 11 13 12 1 1 0>\n",
      "DEBUG:root:status: After player 1 -> <0 0 4 7 9 11 13 12 1 1 0>\n",
      "DEBUG:root:status: After player 0 -> <0 0 4 7 9 11 1 12 1 1 0>\n",
      "DEBUG:root:status: After player 1 -> <0 0 4 7 5 11 1 12 1 1 0>\n",
      "DEBUG:root:status: After player 0 -> <0 0 4 7 5 11 1 4 1 1 0>\n",
      "DEBUG:root:status: After player 1 -> <0 0 4 7 5 3 1 4 1 1 0>\n",
      "DEBUG:root:status: After player 0 -> <0 0 4 1 5 3 1 4 1 1 0>\n",
      "DEBUG:root:status: After player 1 -> <0 0 2 1 5 3 1 4 1 1 0>\n",
      "DEBUG:root:status: After player 0 -> <0 0 2 0 5 3 1 4 1 1 0>\n",
      "DEBUG:root:status: After player 1 -> <0 0 2 0 4 3 1 4 1 1 0>\n",
      "DEBUG:root:status: After player 0 -> <0 0 2 0 3 3 1 4 1 1 0>\n",
      "DEBUG:root:status: After player 1 -> <0 0 2 0 3 3 1 3 1 1 0>\n",
      "DEBUG:root:status: After player 0 -> <0 0 2 0 1 3 1 3 1 1 0>\n",
      "DEBUG:root:status: After player 1 -> <0 0 0 0 1 3 1 3 1 1 0>\n",
      "DEBUG:root:status: After player 0 -> <0 0 0 0 1 0 1 3 1 1 0>\n",
      "DEBUG:root:status: After player 1 -> <0 0 0 0 1 0 1 0 1 1 0>\n",
      "DEBUG:root:status: After player 0 -> <0 0 0 0 0 0 1 0 1 1 0>\n",
      "DEBUG:root:status: After player 1 -> <0 0 0 0 0 0 0 0 1 1 0>\n",
      "DEBUG:root:status: After player 0 -> <0 0 0 0 0 0 0 0 0 1 0>\n",
      "DEBUG:root:status: After player 1 -> <0 0 0 0 0 0 0 0 0 0 0>\n",
      "INFO:root:status: Player 1 won! (At turn 28)\n"
     ]
    }
   ],
   "source": [
    "logging.getLogger().setLevel(logging.DEBUG)\n",
    "\n",
    "#strategy = (pure_random, gabriele)\n",
    "strategy = (make_strategy({'p' : .1}), optimal_strategy)\n",
    "\n",
    "# 11 is the num of rows\n",
    "nim = Nim(11)\n",
    "logging.debug(f\"status: Initial board  -> {nim}\")\n",
    "player = 0\n",
    "turn = 0\n",
    "while nim:\n",
    "    ply = strategy[player](nim)\n",
    "    nim.nimming(ply)\n",
    "    turn = turn+1\n",
    "    logging.debug(f\"status: After player {player} -> {nim}\")\n",
    "    player = 1 - player\n",
    "winner = 1 - player\n",
    "logging.info(f\"status: Player {winner} won! (At turn {turn})\")"
   ]
  }
 ],
 "metadata": {
  "kernelspec": {
   "display_name": "Python 3.10.8 64-bit (microsoft store)",
   "language": "python",
   "name": "python3"
  },
  "language_info": {
   "codemirror_mode": {
    "name": "ipython",
    "version": 3
   },
   "file_extension": ".py",
   "mimetype": "text/x-python",
   "name": "python",
   "nbconvert_exporter": "python",
   "pygments_lexer": "ipython3",
   "version": "3.10.8"
  },
  "vscode": {
   "interpreter": {
    "hash": "67760a0be15117c6d55da0be2b499166ca00e5a3d4aaad720f8a6c8fddcf083f"
   }
  }
 },
 "nbformat": 4,
 "nbformat_minor": 2
}
